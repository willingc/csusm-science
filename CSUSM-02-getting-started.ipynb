{
 "metadata": {
  "name": "",
  "signature": "sha256:2995f4999fdd030b80686af99dfba321c78e649b4bdefc3efe72cf965ba4c549"
 },
 "nbformat": 3,
 "nbformat_minor": 0,
 "worksheets": [
  {
   "cells": [
    {
     "cell_type": "heading",
     "level": 1,
     "metadata": {},
     "source": [
      "Getting Started with IPython Notebook"
     ]
    },
    {
     "cell_type": "markdown",
     "metadata": {},
     "source": [
      "Let's get started. \n",
      "\n",
      "[IPython Notebook](http://ipython.org/notebook) is fun, interactive, and powerful. We want you to begin using it. Don't worry if you don't understand all the details or are new to Python. There are many excellent sample notebooks that will inspire you and help you get productive quickly."
     ]
    },
    {
     "cell_type": "heading",
     "level": 3,
     "metadata": {},
     "source": [
      "Our Philosophy for New Users"
     ]
    },
    {
     "cell_type": "markdown",
     "metadata": {},
     "source": [
      "This notebook is an opinionated guide with the goal of providing an environment to try out IPython Notebook. To meet this goal, we will recommend specific environments that we have found simplest for those new to IPython Notebook. \n",
      "\n",
      "[Note: Once you have been using IPython Notebook for a few weeks, we encourage you to try out other implementations and environments that support IPython Notebook. We are not advocating a specific vendor or approach for your long term use. Your choice will be guided by your own personal development needs.]"
     ]
    },
    {
     "cell_type": "heading",
     "level": 3,
     "metadata": {},
     "source": [
      "A web service for IPython Notebook"
     ]
    },
    {
     "cell_type": "markdown",
     "metadata": {},
     "source": [
      "* Do you want to get up and running quickly?\n",
      "* No access to a personal dedicated computer? \n",
      "* Want to give it a try before installing?\n",
      "\n",
      "A web service for IPython Notebook is an excellent option."
     ]
    },
    {
     "cell_type": "markdown",
     "metadata": {},
     "source": [
      "We'll be using wakari.io (https://wakari.io)."
     ]
    },
    {
     "cell_type": "code",
     "collapsed": false,
     "input": [],
     "language": "python",
     "metadata": {},
     "outputs": []
    }
   ],
   "metadata": {}
  }
 ]
}