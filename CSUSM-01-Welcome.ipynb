{
 "metadata": {
  "name": "",
  "signature": "sha256:22920dead70cbb8433694a412e2e2d35ba3c6e48b02cf59d70e4be9dd567f7e2"
 },
 "nbformat": 3,
 "nbformat_minor": 0,
 "worksheets": [
  {
   "cells": [
    {
     "cell_type": "heading",
     "level": 1,
     "metadata": {},
     "source": [
      "Welcome\n"
     ]
    },
    {
     "cell_type": "heading",
     "level": 3,
     "metadata": {},
     "source": [
      "Women in Science and Engineering, CSUSM"
     ]
    },
    {
     "cell_type": "heading",
     "level": 3,
     "metadata": {},
     "source": [
      "November 5, 2014"
     ]
    },
    {
     "cell_type": "code",
     "collapsed": false,
     "input": [
      "import time\n",
      "from datetime import date\n",
      "\n",
      "meeting_date = datetime.date(2024, 11, 5)\n",
      "print (\"Thank you for joining us today: \", meeting_date)"
     ],
     "language": "python",
     "metadata": {},
     "outputs": []
    },
    {
     "cell_type": "markdown",
     "metadata": {},
     "source": [
      "**Umm...**"
     ]
    },
    {
     "cell_type": "code",
     "collapsed": false,
     "input": [
      "today = date.today()\n",
      "print(today)"
     ],
     "language": "python",
     "metadata": {},
     "outputs": []
    },
    {
     "cell_type": "code",
     "collapsed": false,
     "input": [
      "today is meeting_date"
     ],
     "language": "python",
     "metadata": {},
     "outputs": []
    },
    {
     "cell_type": "code",
     "collapsed": false,
     "input": [
      "if today is meeting_date:\n",
      "    print(\"Hooray, I'm at the right place!\")"
     ],
     "language": "python",
     "metadata": {},
     "outputs": []
    },
    {
     "cell_type": "code",
     "collapsed": false,
     "input": [
      "if today is not meeting_date:\n",
      "    print(\"Epic calendar fail :(\")"
     ],
     "language": "python",
     "metadata": {},
     "outputs": []
    },
    {
     "cell_type": "code",
     "collapsed": false,
     "input": [
      "print(meeting_date - today)"
     ],
     "language": "python",
     "metadata": {},
     "outputs": []
    },
    {
     "cell_type": "markdown",
     "metadata": {},
     "source": [
      "#Agenda\n",
      "* Welcome\n",
      "* Introductions\n",
      "* I **<3** IPython Notebook\n",
      "* Mini-installfest\n",
      "* Share and socialize"
     ]
    },
    {
     "cell_type": "markdown",
     "metadata": {},
     "source": [
      "#Introductions\n",
      "* Spotlight on Limor Fried\n",
      "* Myself - Carol Willing\n",
      "* You :D"
     ]
    },
    {
     "cell_type": "heading",
     "level": 2,
     "metadata": {},
     "source": [
      "Spotlight on Limor Fried"
     ]
    },
    {
     "cell_type": "heading",
     "level": 3,
     "metadata": {},
     "source": [
      "Ten years ago..."
     ]
    },
    {
     "cell_type": "markdown",
     "metadata": {},
     "source": [
      "http://www.ladyada.net/pub/research.html"
     ]
    },
    {
     "cell_type": "markdown",
     "metadata": {},
     "source": [
      "http://www.ladyada.net/media/pub/thesis.pdf"
     ]
    },
    {
     "cell_type": "markdown",
     "metadata": {},
     "source": [
      "http://www.ladyada.net"
     ]
    },
    {
     "cell_type": "heading",
     "level": 3,
     "metadata": {},
     "source": [
      "Today"
     ]
    },
    {
     "cell_type": "markdown",
     "metadata": {},
     "source": [
      "http://www.themagpi.com/issue/issue-9/"
     ]
    },
    {
     "cell_type": "markdown",
     "metadata": {},
     "source": [
      "https://www.adafruit.com/"
     ]
    },
    {
     "cell_type": "markdown",
     "metadata": {},
     "source": [
      "https://learn.adafruit.com/"
     ]
    },
    {
     "cell_type": "markdown",
     "metadata": {},
     "source": [
      "https://learn.adafruit.com/florabrella"
     ]
    },
    {
     "cell_type": "markdown",
     "metadata": {},
     "source": [
      "https://learn.adafruit.com/circuit-playground-f-is-for-frequency/transcript"
     ]
    },
    {
     "cell_type": "markdown",
     "metadata": {},
     "source": [
      "### Carol Willing\n",
      "\n",
      "* Bio: http://www.fablabsd.org/team/carol-willing/\n",
      "* Website: https://willingconsulting.com\n",
      "* GitHub: https://github.com/willingc\n",
      "* Twitter: @willingcarol https://twitter.com/WillingCarol"
     ]
    },
    {
     "cell_type": "heading",
     "level": 3,
     "metadata": {},
     "source": [
      "Let's hear about you and what rocks your world..."
     ]
    },
    {
     "cell_type": "code",
     "collapsed": false,
     "input": [],
     "language": "python",
     "metadata": {},
     "outputs": []
    }
   ],
   "metadata": {}
  }
 ]
}